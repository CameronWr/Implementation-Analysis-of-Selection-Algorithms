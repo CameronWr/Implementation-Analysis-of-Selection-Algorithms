{
 "cells": [
  {
   "cell_type": "markdown",
   "metadata": {},
   "source": [
    "# Individual Project"
   ]
  },
  {
   "cell_type": "code",
   "execution_count": 1,
   "metadata": {
    "scrolled": true
   },
   "outputs": [
    {
     "name": "stdout",
     "output_type": "stream",
     "text": [
      "Python implementation: CPython\n",
      "Python version       : 3.8.8\n",
      "IPython version      : 7.21.0\n",
      "\n"
     ]
    }
   ],
   "source": [
    "from sys import stdout\n",
    "from copy import deepcopy\n",
    "from random import sample, randint\n",
    "%load_ext memory_profiler\n",
    "%load_ext watermark\n",
    "%watermark -v -iv"
   ]
  },
  {
   "cell_type": "markdown",
   "metadata": {},
   "source": [
    "### K & Array Generation"
   ]
  },
  {
   "cell_type": "code",
   "execution_count": 2,
   "metadata": {},
   "outputs": [],
   "source": [
    "# Returning arrays of length n containing unique integers (0 - n-1), which are randomly ordered\n",
    "def randomize(hundred, thous, hunderedThous, mill, tenMill):\n",
    "    hundred = sample(range(0, 100), 100)\n",
    "    thous = sample(range(0, 1000), 1000)\n",
    "    hunderedThous = sample(range(0, 100000), 100000)\n",
    "    mill = sample(range(0, 1000000), 1000000)\n",
    "    tenMill = sample(range(0, 10000000), 10000000)\n",
    "    return hundred, thous, hunderedThous, mill, tenMill\n",
    "\n",
    "\n",
    "hundred, thous, hunderedThous, mill, tenMill = [], [], [], [], []\n",
    "# Random arrays saved so every solution uses same set of arrays\n",
    "arrays = [hundred, thous, hunderedThous, mill, tenMill]\n",
    "randArrays = randomize(*arrays)\n",
    "hundred, thous, hunderedThous, mill, tenMill = deepcopy(randArrays)\n",
    "# Arbitrary k value within all arrays (0 <= k <= 99)\n",
    "k = randint(0, 99)"
   ]
  },
  {
   "cell_type": "markdown",
   "metadata": {},
   "source": [
    "\n"
   ]
  },
  {
   "cell_type": "markdown",
   "metadata": {},
   "source": [
    "### Solutions"
   ]
  },
  {
   "cell_type": "code",
   "execution_count": 3,
   "metadata": {},
   "outputs": [],
   "source": [
    "def hoarsPartition(array, lower, upper):\n",
    "    pivot = array[lower]\n",
    "    i = lower - 1\n",
    "    j = upper + 1\n",
    "\n",
    "    while True:\n",
    "        j -= 1\n",
    "        while array[j] > pivot:\n",
    "            j -= 1\n",
    "\n",
    "        i += 1\n",
    "        while array[i] < pivot:\n",
    "            i += 1\n",
    "\n",
    "        if i < j:\n",
    "            array[i], array[j] = array[j], array[i]\n",
    "        else:\n",
    "            return j\n",
    "\n",
    "\n",
    "def quickSort(array, lower, upper):\n",
    "    if lower < upper:\n",
    "        pivot = hoarsPartition(array, lower, upper)\n",
    "\n",
    "        quickSort(array, lower, pivot)\n",
    "        quickSort(array, pivot + 1, upper)\n",
    "\n",
    "\n",
    "def naiveSolution(array, k):\n",
    "    quickSort(array, 0, len(array) - 1)\n",
    "    stdout.write(\"%dth smallest element in array is %d\\n\" % (k, array[k - 1]))"
   ]
  },
  {
   "cell_type": "code",
   "execution_count": 4,
   "metadata": {
    "scrolled": true
   },
   "outputs": [
    {
     "name": "stdout",
     "output_type": "stream",
     "text": [
      "58th smallest element in array is 57\n",
      "389 µs ± 0 ns per loop (mean ± std. dev. of 1 run, 1 loop each)\n"
     ]
    }
   ],
   "source": [
    "%%timeit -r 1 -n 1\n",
    "naiveSolution(hundred, k)"
   ]
  },
  {
   "cell_type": "code",
   "execution_count": 5,
   "metadata": {
    "scrolled": false
   },
   "outputs": [
    {
     "name": "stdout",
     "output_type": "stream",
     "text": [
      "58th smallest element in array is 57\n",
      "1.36 ms ± 0 ns per loop (mean ± std. dev. of 1 run, 1 loop each)\n"
     ]
    }
   ],
   "source": [
    "%%timeit -r 1 -n 1\n",
    "naiveSolution(thous, k)"
   ]
  },
  {
   "cell_type": "code",
   "execution_count": 6,
   "metadata": {
    "scrolled": true
   },
   "outputs": [
    {
     "name": "stdout",
     "output_type": "stream",
     "text": [
      "58th smallest element in array is 57\n",
      "174 ms ± 0 ns per loop (mean ± std. dev. of 1 run, 1 loop each)\n"
     ]
    }
   ],
   "source": [
    "%%timeit -r 1 -n 1\n",
    "naiveSolution(hunderedThous, k)"
   ]
  },
  {
   "cell_type": "code",
   "execution_count": 7,
   "metadata": {
    "scrolled": true
   },
   "outputs": [
    {
     "name": "stdout",
     "output_type": "stream",
     "text": [
      "58th smallest element in array is 57\n",
      "2.26 s ± 0 ns per loop (mean ± std. dev. of 1 run, 1 loop each)\n"
     ]
    }
   ],
   "source": [
    "%%timeit -r 1 -n 1\n",
    "naiveSolution(mill, k)"
   ]
  },
  {
   "cell_type": "code",
   "execution_count": 8,
   "metadata": {},
   "outputs": [
    {
     "name": "stdout",
     "output_type": "stream",
     "text": [
      "58th smallest element in array is 57\n",
      "28.9 s ± 0 ns per loop (mean ± std. dev. of 1 run, 1 loop each)\n"
     ]
    }
   ],
   "source": [
    "%%timeit -r 1 -n 1\n",
    "naiveSolution(tenMill, k)"
   ]
  },
  {
   "cell_type": "code",
   "execution_count": 9,
   "metadata": {},
   "outputs": [],
   "source": [
    "hundred, thous, hunderedThous, mill, tenMill = deepcopy(randArrays)"
   ]
  },
  {
   "cell_type": "markdown",
   "metadata": {},
   "source": [
    "\n"
   ]
  },
  {
   "cell_type": "code",
   "execution_count": 10,
   "metadata": {},
   "outputs": [],
   "source": [
    "def quickSelect(array, lower, upper, k):\n",
    "    if lower == upper:\n",
    "        return array[lower]\n",
    "\n",
    "    pivotIndex = randint(lower, upper)\n",
    "    pivotValue = array[pivotIndex]\n",
    "    array[upper], array[pivotIndex] = array[pivotIndex], array[upper]\n",
    "    pivotIndex = lower\n",
    "\n",
    "    for index in range(lower, upper):\n",
    "        if array[index] <= pivotValue:\n",
    "            array[index], array[pivotIndex] = array[pivotIndex], array[index]\n",
    "            pivotIndex = pivotIndex + 1\n",
    "\n",
    "    array[upper], array[pivotIndex] = array[pivotIndex], array[upper]\n",
    "\n",
    "    if k < pivotIndex:\n",
    "        return quickSelect(array, lower, pivotIndex - 1, k)\n",
    "    elif k > pivotIndex:\n",
    "        return quickSelect(array, pivotIndex + 1, upper, k)\n",
    "    else:\n",
    "        return array[k]\n",
    "\n",
    "\n",
    "def smarterSolution(array, k):\n",
    "    stdout.write(\"%dth smallest element in array is %d\\n\" % (k, quickSelect(array, 0, len(array) - 1, k) - 1))"
   ]
  },
  {
   "cell_type": "code",
   "execution_count": 11,
   "metadata": {},
   "outputs": [
    {
     "name": "stdout",
     "output_type": "stream",
     "text": [
      "58th smallest element in array is 57\n",
      "144 µs ± 0 ns per loop (mean ± std. dev. of 1 run, 1 loop each)\n"
     ]
    }
   ],
   "source": [
    "%%timeit -r 1 -n 1\n",
    "smarterSolution(hundred, k)"
   ]
  },
  {
   "cell_type": "code",
   "execution_count": 12,
   "metadata": {
    "scrolled": false
   },
   "outputs": [
    {
     "name": "stdout",
     "output_type": "stream",
     "text": [
      "58th smallest element in array is 57\n",
      "216 µs ± 0 ns per loop (mean ± std. dev. of 1 run, 1 loop each)\n"
     ]
    }
   ],
   "source": [
    "%%timeit -r 1 -n 1\n",
    "smarterSolution(thous, k)"
   ]
  },
  {
   "cell_type": "code",
   "execution_count": 13,
   "metadata": {
    "scrolled": true
   },
   "outputs": [
    {
     "name": "stdout",
     "output_type": "stream",
     "text": [
      "58th smallest element in array is 57\n",
      "11.1 ms ± 0 ns per loop (mean ± std. dev. of 1 run, 1 loop each)\n"
     ]
    }
   ],
   "source": [
    "%%timeit -r 1 -n 1\n",
    "smarterSolution(hunderedThous, k)"
   ]
  },
  {
   "cell_type": "code",
   "execution_count": 14,
   "metadata": {
    "scrolled": true
   },
   "outputs": [
    {
     "name": "stdout",
     "output_type": "stream",
     "text": [
      "58th smallest element in array is 57\n",
      "242 ms ± 0 ns per loop (mean ± std. dev. of 1 run, 1 loop each)\n"
     ]
    }
   ],
   "source": [
    "%%timeit -r 1 -n 1\n",
    "smarterSolution(mill, k)"
   ]
  },
  {
   "cell_type": "code",
   "execution_count": 15,
   "metadata": {
    "scrolled": false
   },
   "outputs": [
    {
     "name": "stdout",
     "output_type": "stream",
     "text": [
      "58th smallest element in array is 57\n",
      "4.89 s ± 0 ns per loop (mean ± std. dev. of 1 run, 1 loop each)\n"
     ]
    }
   ],
   "source": [
    "%%timeit -r 1 -n 1\n",
    "smarterSolution(tenMill, k)"
   ]
  },
  {
   "cell_type": "code",
   "execution_count": 16,
   "metadata": {},
   "outputs": [],
   "source": [
    "hundred, thous, hunderedThous, mill, tenMill = deepcopy(randArrays)"
   ]
  },
  {
   "cell_type": "markdown",
   "metadata": {},
   "source": [
    "\n"
   ]
  },
  {
   "cell_type": "markdown",
   "metadata": {},
   "source": [
    "### Algorithms for Runtime Comparison"
   ]
  },
  {
   "cell_type": "code",
   "execution_count": 17,
   "metadata": {},
   "outputs": [],
   "source": [
    "def bubbleSort(array):\n",
    "    for x in range(len(array)):\n",
    "        for y in range(len(array) - 1):\n",
    "            if array[y] > array[y + 1]:\n",
    "                array[y], array[y + 1] = array[y + 1], array[y]\n",
    "\n",
    "def upperBound(array, k):\n",
    "    bubbleSort(array)\n",
    "    stdout.write(\"%dth smallest element in array is %d\\n\" %(k, array[k - 1]))"
   ]
  },
  {
   "cell_type": "code",
   "execution_count": 18,
   "metadata": {},
   "outputs": [
    {
     "name": "stdout",
     "output_type": "stream",
     "text": [
      "58th smallest element in array is 57\n",
      "706 µs ± 0 ns per loop (mean ± std. dev. of 1 run, 1 loop each)\n"
     ]
    }
   ],
   "source": [
    "%%timeit -r 1 -n 1\n",
    "upperBound(hundred, k)"
   ]
  },
  {
   "cell_type": "code",
   "execution_count": 19,
   "metadata": {},
   "outputs": [
    {
     "name": "stdout",
     "output_type": "stream",
     "text": [
      "58th smallest element in array is 57\n",
      "72.4 ms ± 0 ns per loop (mean ± std. dev. of 1 run, 1 loop each)\n"
     ]
    }
   ],
   "source": [
    "%%timeit -r 1 -n 1\n",
    "upperBound(thous, k)"
   ]
  },
  {
   "cell_type": "code",
   "execution_count": 20,
   "metadata": {
    "scrolled": true
   },
   "outputs": [
    {
     "name": "stdout",
     "output_type": "stream",
     "text": [
      "58th smallest element in array is 57\n",
      "13min 57s ± 0 ns per loop (mean ± std. dev. of 1 run, 1 loop each)\n"
     ]
    }
   ],
   "source": [
    "%%timeit -r 1 -n 1\n",
    "upperBound(hunderedThous, k)"
   ]
  },
  {
   "cell_type": "markdown",
   "metadata": {},
   "source": [
    "\n"
   ]
  },
  {
   "cell_type": "code",
   "execution_count": 21,
   "metadata": {},
   "outputs": [],
   "source": [
    "def binarySearch(array, lower, upper, k):\n",
    "    if lower <= upper:\n",
    "        middle = (lower + upper) // 2\n",
    "        if array[middle] == k:\n",
    "            return middle\n",
    "        if array[middle] > k:\n",
    "            return binarySearch(array, lower, middle - 1, k)\n",
    "        if array[middle] < k:\n",
    "            return binarySearch(array, middle + 1, upper, k)\n",
    "\n",
    "\n",
    "def lowerBound(array, k):\n",
    "    stdout.write(\"%dth smallest element in array is %d\\n\" % (k, binarySearch(array, 0, len(array) - 1, k)-1))"
   ]
  },
  {
   "cell_type": "code",
   "execution_count": 22,
   "metadata": {},
   "outputs": [
    {
     "name": "stdout",
     "output_type": "stream",
     "text": [
      "58th smallest element in array is 57\n",
      "28.6 µs ± 0 ns per loop (mean ± std. dev. of 1 run, 1 loop each)\n"
     ]
    }
   ],
   "source": [
    "%%timeit -r 1 -n 1\n",
    "lowerBound(hundred, k)"
   ]
  },
  {
   "cell_type": "code",
   "execution_count": 23,
   "metadata": {},
   "outputs": [
    {
     "name": "stdout",
     "output_type": "stream",
     "text": [
      "58th smallest element in array is 57\n",
      "99.5 µs ± 0 ns per loop (mean ± std. dev. of 1 run, 1 loop each)\n"
     ]
    }
   ],
   "source": [
    "%%timeit -r 1 -n 1\n",
    "lowerBound(thous, k)"
   ]
  },
  {
   "cell_type": "code",
   "execution_count": 24,
   "metadata": {
    "scrolled": true
   },
   "outputs": [
    {
     "name": "stdout",
     "output_type": "stream",
     "text": [
      "58th smallest element in array is 57\n",
      "106 µs ± 0 ns per loop (mean ± std. dev. of 1 run, 1 loop each)\n"
     ]
    }
   ],
   "source": [
    "%%timeit -r 1 -n 1\n",
    "lowerBound(hunderedThous, k)"
   ]
  },
  {
   "cell_type": "markdown",
   "metadata": {},
   "source": [
    "\n"
   ]
  },
  {
   "cell_type": "markdown",
   "metadata": {},
   "source": [
    "### Examples"
   ]
  },
  {
   "cell_type": "code",
   "execution_count": 25,
   "metadata": {},
   "outputs": [
    {
     "name": "stdout",
     "output_type": "stream",
     "text": [
      "7 8 4 1 5 3 9 0 2 6\n",
      "0 1 2 3 4 5 6 7 8 9"
     ]
    }
   ],
   "source": [
    "# Array content\n",
    "ten = sample(range(0, 10), 10)\n",
    "stdout.write(\" \".join(str(x) for x in ten))\n",
    "bubbleSort(ten)\n",
    "stdout.write(\"\\n\" + \" \".join(str(x) for x in ten))"
   ]
  }
 ],
 "metadata": {
  "kernelspec": {
   "display_name": "Python 3",
   "language": "python",
   "name": "python3"
  },
  "language_info": {
   "codemirror_mode": {
    "name": "ipython",
    "version": 3
   },
   "file_extension": ".py",
   "mimetype": "text/x-python",
   "name": "python",
   "nbconvert_exporter": "python",
   "pygments_lexer": "ipython3",
   "version": "3.8.8"
  }
 },
 "nbformat": 4,
 "nbformat_minor": 4
}
